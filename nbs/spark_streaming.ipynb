{
 "cells": [
  {
   "cell_type": "code",
   "execution_count": null,
   "id": "3c35bdc6-a21d-4c40-91dd-528903728e49",
   "metadata": {},
   "outputs": [],
   "source": [
    "from pyspark.sql import SparkSession\n",
    "from pyspark.sql.types import *\n",
    "import pyspark.sql.functions as f"
   ]
  },
  {
   "cell_type": "code",
   "execution_count": null,
   "id": "096ecbca-20b5-487c-ae9d-01eca053fc52",
   "metadata": {},
   "outputs": [],
   "source": [
    "# Create a schema for incoming resources\n",
    "schema = \"...\""
   ]
  },
  {
   "cell_type": "code",
   "execution_count": null,
   "id": "27b7feb3",
   "metadata": {},
   "outputs": [],
   "source": [
    "topic = \"your_topic\""
   ]
  },
  {
   "cell_type": "code",
   "execution_count": null,
   "id": "7a91b3a4-c7c7-42bf-9672-5b56e6f1ab7e",
   "metadata": {},
   "outputs": [],
   "source": [
    "spark = SparkSession \\\n",
    ".builder \\\n",
    ".appName(\"PySpark Structured Streaming with Kafka\") \\\n",
    ".config(\"spark.jars.packages\", \"org.apache.spark:spark-sql-kafka-0-10_2.12:3.2.1\") \\\n",
    ".master(\"local[*]\") \\\n",
    ".getOrCreate()"
   ]
  },
  {
   "cell_type": "code",
   "execution_count": null,
   "id": "7214eec2-8f74-490e-908b-189ba83691ec",
   "metadata": {},
   "outputs": [],
   "source": [
    "# Create Spark configurations with max offset of 200 per trigger\n",
    "# set up correct bootstrap server and port\n",
    "df = spark \\\n",
    "    .readStream \\\n",
    "    .format(\"kafka\") \\\n",
    "    .option(\"kafka.bootstrap.servers\", \"kafka:9092\") \\\n",
    "    .option(\"subscribe\", topic) \\\n",
    "    .option(\"startingOffsets\", \"earliest\") \\\n",
    "    .load()"
   ]
  },
  {
   "cell_type": "code",
   "execution_count": null,
   "id": "4f8e011c-f611-490f-b589-7b90747260fa",
   "metadata": {},
   "outputs": [],
   "source": [
    "df.printSchema()"
   ]
  },
  {
   "cell_type": "code",
   "execution_count": null,
   "id": "a89ab1f4-b15c-4913-b6f0-d87874473c44",
   "metadata": {},
   "outputs": [],
   "source": [
    "# Extract the correct column from the kafka input resources\n",
    "# Take only value and convert it to String\n",
    "kafka_df = df.selectExpr(\"CAST(value AS STRING)\")"
   ]
  },
  {
   "cell_type": "code",
   "execution_count": null,
   "id": "e7d4c4e4-b8f5-4100-8d47-e236e78664b5",
   "metadata": {},
   "outputs": [],
   "source": [
    "service_table = kafka_df \\\n",
    "        .select(f.from_json(f.col('value'), schema).alias(\"DF\")) \\\n",
    "        .select(\"DF.*\")"
   ]
  },
  {
   "cell_type": "code",
   "execution_count": null,
   "id": "64e3a6ed-3ce0-4fea-b945-fa1fbbaffa0a",
   "metadata": {},
   "outputs": [],
   "source": [
    "# select original_crime_type_name and disposition\n"
   ]
  },
  {
   "cell_type": "code",
   "execution_count": null,
   "id": "a78d60d6-4a59-4ab3-850e-123d8d4b541f",
   "metadata": {},
   "outputs": [],
   "source": [
    "# count the number of original crime type\n"
   ]
  },
  {
   "cell_type": "code",
   "execution_count": null,
   "id": "7db95153-31cd-431f-bc8a-2e470f763345",
   "metadata": {},
   "outputs": [],
   "source": []
  }
 ],
 "metadata": {
  "kernelspec": {
   "display_name": "Python 3 (ipykernel)",
   "language": "python",
   "name": "python3"
  },
  "language_info": {
   "codemirror_mode": {
    "name": "ipython",
    "version": 3
   },
   "file_extension": ".py",
   "mimetype": "text/x-python",
   "name": "python",
   "nbconvert_exporter": "python",
   "pygments_lexer": "ipython3",
   "version": "3.9.10"
  }
 },
 "nbformat": 4,
 "nbformat_minor": 5
}
