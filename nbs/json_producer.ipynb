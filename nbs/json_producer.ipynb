{
 "cells": [
  {
   "cell_type": "code",
   "execution_count": null,
   "id": "e40b6ced-9a14-4541-8cde-66359fe97b27",
   "metadata": {},
   "outputs": [],
   "source": [
    "import json\n",
    "import time\n",
    "from confluent_kafka import Producer"
   ]
  },
  {
   "cell_type": "code",
   "execution_count": null,
   "id": "8c263b69-c247-4072-ad92-f3119c1a5236",
   "metadata": {},
   "outputs": [],
   "source": [
    "def dict_to_binary(json_dict):\n",
    "    return json.dumps(json_dict).encode('utf-8')"
   ]
  },
  {
   "cell_type": "code",
   "execution_count": null,
   "id": "927cce49-0f9f-456f-b3cb-1bd0f0924f76",
   "metadata": {},
   "outputs": [],
   "source": [
    "def generate_stream_data(producer: Producer, topic: str, file_path: str) -> None:\n",
    "    with open(file_path, \"r\") as file:\n",
    "        data = json.load(file)\n",
    "        for event in data:\n",
    "            message = dict_to_binary(event)\n",
    "            producer.produce(topic, message)\n",
    "            time.sleep(0.1)"
   ]
  },
  {
   "cell_type": "code",
   "execution_count": null,
   "id": "01422151-f787-4522-8d30-ea35a02010cf",
   "metadata": {},
   "outputs": [],
   "source": [
    "producer = Producer({\"bootstrap.servers\": \"kafka:9092\"})"
   ]
  },
  {
   "cell_type": "code",
   "execution_count": null,
   "id": "256b0d82",
   "metadata": {},
   "outputs": [],
   "source": [
    "topic = \"codeop_test\""
   ]
  },
  {
   "cell_type": "code",
   "execution_count": null,
   "id": "4fade707-5838-44d2-91dc-652f8bf4ed53",
   "metadata": {},
   "outputs": [],
   "source": [
    "generate_stream_data(producer, topic,\"./data/police-department-calls-for-service.json\")"
   ]
  },
  {
   "cell_type": "code",
   "execution_count": null,
   "id": "12efd6fe-cbde-41a8-b21e-c029a82dc502",
   "metadata": {},
   "outputs": [],
   "source": []
  }
 ],
 "metadata": {
  "kernelspec": {
   "display_name": "Python 3 (ipykernel)",
   "language": "python",
   "name": "python3"
  },
  "language_info": {
   "codemirror_mode": {
    "name": "ipython",
    "version": 3
   },
   "file_extension": ".py",
   "mimetype": "text/x-python",
   "name": "python",
   "nbconvert_exporter": "python",
   "pygments_lexer": "ipython3",
   "version": "3.9.10"
  }
 },
 "nbformat": 4,
 "nbformat_minor": 5
}
